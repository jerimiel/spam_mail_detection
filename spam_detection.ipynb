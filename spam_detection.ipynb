{
 "cells": [
  {
   "cell_type": "code",
   "execution_count": 88,
   "id": "e0d4abe5-d87a-442b-a2c3-9abdaeb98ee5",
   "metadata": {},
   "outputs": [],
   "source": [
    "import pandas as pd\n",
    "import numpy as np\n",
    "import os\n",
    "from bs4 import BeautifulSoup\n",
    "from tensorflow.keras.preprocessing.text import one_hot\n",
    "from tensorflow.keras.layers import Embedding,Input,Dense,Dropout,Flatten\n",
    "from tensorflow.keras.optimizers import Adam\n",
    "from tensorflow.keras.models import Sequential,load_model\n",
    "from sklearn.utils import shuffle\n",
    "from sklearn.model_selection import train_test_split\n",
    "from sklearn.metrics import f1_score"
   ]
  },
  {
   "cell_type": "code",
   "execution_count": 2,
   "id": "dfd0c29a-6e02-446b-85f2-20ef4d47fa64",
   "metadata": {},
   "outputs": [],
   "source": [
    "#Read the ham files into a list\n",
    "ham = os.listdir('ham')\n",
    "spam = os.listdir('spam')\n",
    "ham_file = [open('ham/'+i,'r').read() for i in ham]\n",
    "# The ham files are all htf8 encoded and so no need to specify"
   ]
  },
  {
   "cell_type": "code",
   "execution_count": 4,
   "id": "ae6c3e52-8e3d-471b-a536-c16b25480170",
   "metadata": {},
   "outputs": [],
   "source": [
    "#Some spam files are latin1 encoded and so i will use a try except block to capture them\n",
    "spam_file = []\n",
    "for j in spam:\n",
    "    try:\n",
    "        with open('spam/'+j,'r') as file:\n",
    "            a = file.read()\n",
    "            spam_file.append(a)\n",
    "    except:\n",
    "        with open('spam/'+j,'r', encoding = 'latin1') as file:\n",
    "            a = file.read()\n",
    "            spam_file.append(a)"
   ]
  },
  {
   "cell_type": "code",
   "execution_count": 5,
   "id": "eb77f4f2-d21f-43d5-8b19-adf1a756b32d",
   "metadata": {},
   "outputs": [],
   "source": [
    "#Labels for the spam and ham classes\n",
    "zero = np.zeros(len(ham_file))\n",
    "one = np.ones(len(spam_file))"
   ]
  },
  {
   "cell_type": "code",
   "execution_count": 6,
   "id": "c2c48276-fe9a-4c97-8071-4dd61ad2087c",
   "metadata": {},
   "outputs": [],
   "source": [
    "labels = list(zero) + list(one)"
   ]
  },
  {
   "cell_type": "code",
   "execution_count": 7,
   "id": "b394ab38-30bc-4eb6-9378-e9c59eabcb93",
   "metadata": {},
   "outputs": [],
   "source": [
    "emails = ham_file + spam_file"
   ]
  },
  {
   "cell_type": "code",
   "execution_count": 8,
   "id": "827b6e6f-5c31-4c28-a7a0-2050a4168ca1",
   "metadata": {},
   "outputs": [],
   "source": [
    "dic = {'mails':emails,'labels':labels}"
   ]
  },
  {
   "cell_type": "code",
   "execution_count": 9,
   "id": "6c7bd556-c2b6-49d0-86c0-cca8d6cb7366",
   "metadata": {},
   "outputs": [],
   "source": [
    "df = pd.DataFrame(dic)"
   ]
  },
  {
   "cell_type": "code",
   "execution_count": 10,
   "id": "1b9a6153-ae25-41fe-95f9-7cba45342ce3",
   "metadata": {},
   "outputs": [
    {
     "data": {
      "text/html": [
       "<div>\n",
       "<style scoped>\n",
       "    .dataframe tbody tr th:only-of-type {\n",
       "        vertical-align: middle;\n",
       "    }\n",
       "\n",
       "    .dataframe tbody tr th {\n",
       "        vertical-align: top;\n",
       "    }\n",
       "\n",
       "    .dataframe thead th {\n",
       "        text-align: right;\n",
       "    }\n",
       "</style>\n",
       "<table border=\"1\" class=\"dataframe\">\n",
       "  <thead>\n",
       "    <tr style=\"text-align: right;\">\n",
       "      <th></th>\n",
       "      <th>mails</th>\n",
       "      <th>labels</th>\n",
       "    </tr>\n",
       "  </thead>\n",
       "  <tbody>\n",
       "    <tr>\n",
       "      <th>0</th>\n",
       "      <td>From exmh-workers-admin@redhat.com  Thu Aug 22...</td>\n",
       "      <td>0.0</td>\n",
       "    </tr>\n",
       "    <tr>\n",
       "      <th>1</th>\n",
       "      <td>From Steve_Burt@cursor-system.com  Thu Aug 22 ...</td>\n",
       "      <td>0.0</td>\n",
       "    </tr>\n",
       "    <tr>\n",
       "      <th>2</th>\n",
       "      <td>From timc@2ubh.com  Thu Aug 22 13:52:59 2002\\n...</td>\n",
       "      <td>0.0</td>\n",
       "    </tr>\n",
       "    <tr>\n",
       "      <th>3</th>\n",
       "      <td>From irregulars-admin@tb.tf  Thu Aug 22 14:23:...</td>\n",
       "      <td>0.0</td>\n",
       "    </tr>\n",
       "    <tr>\n",
       "      <th>4</th>\n",
       "      <td>From Stewart.Smith@ee.ed.ac.uk  Thu Aug 22 14:...</td>\n",
       "      <td>0.0</td>\n",
       "    </tr>\n",
       "    <tr>\n",
       "      <th>...</th>\n",
       "      <td>...</td>\n",
       "      <td>...</td>\n",
       "    </tr>\n",
       "    <tr>\n",
       "      <th>2995</th>\n",
       "      <td>From yelanotyami912@bot.or.th  Tue Dec  3 15:1...</td>\n",
       "      <td>1.0</td>\n",
       "    </tr>\n",
       "    <tr>\n",
       "      <th>2996</th>\n",
       "      <td>From bolttish@hotmail.com  Tue Dec  3 15:16:06...</td>\n",
       "      <td>1.0</td>\n",
       "    </tr>\n",
       "    <tr>\n",
       "      <th>2997</th>\n",
       "      <td>From removeme@marysstore.com  Tue Dec  3 15:16...</td>\n",
       "      <td>1.0</td>\n",
       "    </tr>\n",
       "    <tr>\n",
       "      <th>2998</th>\n",
       "      <td>From eBayInternetMarketing@yahoo.com  Tue Dec ...</td>\n",
       "      <td>1.0</td>\n",
       "    </tr>\n",
       "    <tr>\n",
       "      <th>2999</th>\n",
       "      <td>From email@hkem.com  Tue Dec  3 11:46:36 2002\\...</td>\n",
       "      <td>1.0</td>\n",
       "    </tr>\n",
       "  </tbody>\n",
       "</table>\n",
       "<p>3000 rows × 2 columns</p>\n",
       "</div>"
      ],
      "text/plain": [
       "                                                  mails  labels\n",
       "0     From exmh-workers-admin@redhat.com  Thu Aug 22...     0.0\n",
       "1     From Steve_Burt@cursor-system.com  Thu Aug 22 ...     0.0\n",
       "2     From timc@2ubh.com  Thu Aug 22 13:52:59 2002\\n...     0.0\n",
       "3     From irregulars-admin@tb.tf  Thu Aug 22 14:23:...     0.0\n",
       "4     From Stewart.Smith@ee.ed.ac.uk  Thu Aug 22 14:...     0.0\n",
       "...                                                 ...     ...\n",
       "2995  From yelanotyami912@bot.or.th  Tue Dec  3 15:1...     1.0\n",
       "2996  From bolttish@hotmail.com  Tue Dec  3 15:16:06...     1.0\n",
       "2997  From removeme@marysstore.com  Tue Dec  3 15:16...     1.0\n",
       "2998  From eBayInternetMarketing@yahoo.com  Tue Dec ...     1.0\n",
       "2999  From email@hkem.com  Tue Dec  3 11:46:36 2002\\...     1.0\n",
       "\n",
       "[3000 rows x 2 columns]"
      ]
     },
     "execution_count": 10,
     "metadata": {},
     "output_type": "execute_result"
    }
   ],
   "source": [
    "df"
   ]
  },
  {
   "cell_type": "code",
   "execution_count": 47,
   "id": "45a97d92-57bd-496d-a5fc-028790ed4d49",
   "metadata": {},
   "outputs": [],
   "source": [
    "df_clean = df.copy()\n",
    "df_clean['labels'] = df_clean['labels'].astype(int)"
   ]
  },
  {
   "cell_type": "markdown",
   "id": "85a385c0-6220-4509-b509-05f1de788bc8",
   "metadata": {},
   "source": [
    "### Data Cleaning"
   ]
  },
  {
   "cell_type": "code",
   "execution_count": 134,
   "id": "eb3e078c-b29f-490b-8f66-fb6ac15d104e",
   "metadata": {},
   "outputs": [],
   "source": [
    "a = df_clean['mails'].loc[34]"
   ]
  },
  {
   "cell_type": "code",
   "execution_count": 135,
   "id": "1ef88bef-d8e5-41ec-8cfe-421f5a35647b",
   "metadata": {},
   "outputs": [],
   "source": [
    "ans = a.split('\\n')"
   ]
  },
  {
   "cell_type": "code",
   "execution_count": 138,
   "id": "5083c851-35b3-42de-a789-7ce00a647d0e",
   "metadata": {},
   "outputs": [
    {
     "data": {
      "text/plain": [
       "'Hi,Thank you for the useful replies, I have found some interesting tutorials in the ibm developer connection.https://www6.software.ibm.com/developerworks/education/j-sec1andhttps://www6.software.ibm.com/developerworks/education/j-sec2Registration is needed.I will post the same message on the Web Application Security list, as suggested by someone.For now, I thing I will use md5 for password checking (I will use the approach described in secure programmin fo linux and unix how-to).I will separate the authentication module, so I can change its implementation at anytime.Thank you again!Mario Torre-- Please avoid sending me Word or PowerPoint attachments.See http://www.fsf.org/philosophy/no-word-attachments.html '"
      ]
     },
     "execution_count": 138,
     "metadata": {},
     "output_type": "execute_result"
    }
   ],
   "source": [
    "ind = ans.index('')\n",
    "''.join(ans[ind:])"
   ]
  },
  {
   "cell_type": "code",
   "execution_count": 140,
   "id": "33ffa040-1f91-4ac1-9115-e58ca05f201b",
   "metadata": {},
   "outputs": [],
   "source": [
    "mail = []\n",
    "for i in df_clean['mails']:\n",
    "    ans = i.split('\\n')\n",
    "    ind = ans.index('')\n",
    "    text = ''.join(ans[ind:])\n",
    "    mail.append(text)"
   ]
  },
  {
   "cell_type": "code",
   "execution_count": 143,
   "id": "6b92a3c1-4184-4dc6-962f-dac476df1dfd",
   "metadata": {},
   "outputs": [],
   "source": [
    "df_clean['mail'] = mail"
   ]
  },
  {
   "cell_type": "code",
   "execution_count": 157,
   "id": "c6d56e5a-4dc0-4509-b5e3-8523f464898e",
   "metadata": {},
   "outputs": [],
   "source": [
    "ans = [j for j in range(3000) if '<html>' in list(df_clean['mail'])[j]]"
   ]
  },
  {
   "cell_type": "code",
   "execution_count": 167,
   "id": "f3f68093-0139-4229-9079-06e2dec50289",
   "metadata": {},
   "outputs": [],
   "source": [
    "to_clean = df_clean.loc[ans]"
   ]
  },
  {
   "cell_type": "code",
   "execution_count": 177,
   "id": "7094d8c1-7336-4358-bc57-c0b2df4585b1",
   "metadata": {},
   "outputs": [
    {
     "data": {
      "text/html": [
       "<div>\n",
       "<style scoped>\n",
       "    .dataframe tbody tr th:only-of-type {\n",
       "        vertical-align: middle;\n",
       "    }\n",
       "\n",
       "    .dataframe tbody tr th {\n",
       "        vertical-align: top;\n",
       "    }\n",
       "\n",
       "    .dataframe thead th {\n",
       "        text-align: right;\n",
       "    }\n",
       "</style>\n",
       "<table border=\"1\" class=\"dataframe\">\n",
       "  <thead>\n",
       "    <tr style=\"text-align: right;\">\n",
       "      <th></th>\n",
       "      <th>mails</th>\n",
       "      <th>labels</th>\n",
       "      <th>mail</th>\n",
       "    </tr>\n",
       "  </thead>\n",
       "  <tbody>\n",
       "    <tr>\n",
       "      <th>882</th>\n",
       "      <td>From fork-admin@xent.com  Fri Oct  4 18:19:18 ...</td>\n",
       "      <td>0</td>\n",
       "      <td>--------------080209060700030309080805Content-...</td>\n",
       "    </tr>\n",
       "    <tr>\n",
       "      <th>1422</th>\n",
       "      <td>Return-Path: anthony@interlink.com.au\\nDeliver...</td>\n",
       "      <td>0</td>\n",
       "      <td>&gt;&gt;&gt; Tim Peters wrote&gt; &gt; I've actually got a bu...</td>\n",
       "    </tr>\n",
       "    <tr>\n",
       "      <th>1553</th>\n",
       "      <td>From razor-users-admin@lists.sourceforge.net  ...</td>\n",
       "      <td>0</td>\n",
       "      <td>The following razor debugging sequence show my...</td>\n",
       "    </tr>\n",
       "    <tr>\n",
       "      <th>1682</th>\n",
       "      <td>Return-Path: tim.one@comcast.net\\nDelivery-Dat...</td>\n",
       "      <td>0</td>\n",
       "      <td>[Jeremy]&gt; The total collections are 1100 messa...</td>\n",
       "    </tr>\n",
       "    <tr>\n",
       "      <th>1712</th>\n",
       "      <td>Return-Path: guido@python.org\\nDelivery-Date: ...</td>\n",
       "      <td>0</td>\n",
       "      <td>&gt; &gt; But it also identified as spam everything ...</td>\n",
       "    </tr>\n",
       "    <tr>\n",
       "      <th>...</th>\n",
       "      <td>...</td>\n",
       "      <td>...</td>\n",
       "      <td>...</td>\n",
       "    </tr>\n",
       "    <tr>\n",
       "      <th>2991</th>\n",
       "      <td>From akakay54@excite.com  Tue Dec  3 11:57:08 ...</td>\n",
       "      <td>1</td>\n",
       "      <td>&lt;html&gt;&lt;body&gt;&lt;center&gt;&lt;table bgcolor=3D\"663399\" ...</td>\n",
       "    </tr>\n",
       "    <tr>\n",
       "      <th>2992</th>\n",
       "      <td>From dega_jc271@hotmail.com  Tue Dec  3 11:57:...</td>\n",
       "      <td>1</td>\n",
       "      <td>&lt;HR&gt;&lt;html&gt;&lt;head&gt;  &lt;title&gt;Secured Investements ...</td>\n",
       "    </tr>\n",
       "    <tr>\n",
       "      <th>2995</th>\n",
       "      <td>From yelanotyami912@bot.or.th  Tue Dec  3 15:1...</td>\n",
       "      <td>1</td>\n",
       "      <td>&lt;html&gt;&lt;head&gt;&lt;title&gt;Toy&lt;/title&gt;&lt;/head&gt;&lt;body bgc...</td>\n",
       "    </tr>\n",
       "    <tr>\n",
       "      <th>2996</th>\n",
       "      <td>From bolttish@hotmail.com  Tue Dec  3 15:16:06...</td>\n",
       "      <td>1</td>\n",
       "      <td>&lt;html&gt;&lt;head&gt;&lt;title&gt;Untitled Document&lt;/title&gt;&lt;m...</td>\n",
       "    </tr>\n",
       "    <tr>\n",
       "      <th>2998</th>\n",
       "      <td>From eBayInternetMarketing@yahoo.com  Tue Dec ...</td>\n",
       "      <td>1</td>\n",
       "      <td>&lt;html&gt;&lt;head&gt;&lt;/head&gt;  &lt;body background=\"http://...</td>\n",
       "    </tr>\n",
       "  </tbody>\n",
       "</table>\n",
       "<p>147 rows × 3 columns</p>\n",
       "</div>"
      ],
      "text/plain": [
       "                                                  mails  labels  \\\n",
       "882   From fork-admin@xent.com  Fri Oct  4 18:19:18 ...       0   \n",
       "1422  Return-Path: anthony@interlink.com.au\\nDeliver...       0   \n",
       "1553  From razor-users-admin@lists.sourceforge.net  ...       0   \n",
       "1682  Return-Path: tim.one@comcast.net\\nDelivery-Dat...       0   \n",
       "1712  Return-Path: guido@python.org\\nDelivery-Date: ...       0   \n",
       "...                                                 ...     ...   \n",
       "2991  From akakay54@excite.com  Tue Dec  3 11:57:08 ...       1   \n",
       "2992  From dega_jc271@hotmail.com  Tue Dec  3 11:57:...       1   \n",
       "2995  From yelanotyami912@bot.or.th  Tue Dec  3 15:1...       1   \n",
       "2996  From bolttish@hotmail.com  Tue Dec  3 15:16:06...       1   \n",
       "2998  From eBayInternetMarketing@yahoo.com  Tue Dec ...       1   \n",
       "\n",
       "                                                   mail  \n",
       "882   --------------080209060700030309080805Content-...  \n",
       "1422  >>> Tim Peters wrote> > I've actually got a bu...  \n",
       "1553  The following razor debugging sequence show my...  \n",
       "1682  [Jeremy]> The total collections are 1100 messa...  \n",
       "1712  > > But it also identified as spam everything ...  \n",
       "...                                                 ...  \n",
       "2991  <html><body><center><table bgcolor=3D\"663399\" ...  \n",
       "2992  <HR><html><head>  <title>Secured Investements ...  \n",
       "2995  <html><head><title>Toy</title></head><body bgc...  \n",
       "2996  <html><head><title>Untitled Document</title><m...  \n",
       "2998  <html><head></head>  <body background=\"http://...  \n",
       "\n",
       "[147 rows x 3 columns]"
      ]
     },
     "execution_count": 177,
     "metadata": {},
     "output_type": "execute_result"
    }
   ],
   "source": [
    "to_clean"
   ]
  },
  {
   "cell_type": "code",
   "execution_count": 187,
   "id": "e8eec27f-45d1-4ffe-965e-2cbb3d10f02f",
   "metadata": {},
   "outputs": [],
   "source": [
    "to_clean['mail'] = [BeautifulSoup(i,'lxml').find('body').text for i in to_clean['mail']]"
   ]
  },
  {
   "cell_type": "code",
   "execution_count": 188,
   "id": "834f91f9-628e-47a0-bb51-bd64af266a75",
   "metadata": {},
   "outputs": [
    {
     "data": {
      "text/html": [
       "<div>\n",
       "<style scoped>\n",
       "    .dataframe tbody tr th:only-of-type {\n",
       "        vertical-align: middle;\n",
       "    }\n",
       "\n",
       "    .dataframe tbody tr th {\n",
       "        vertical-align: top;\n",
       "    }\n",
       "\n",
       "    .dataframe thead th {\n",
       "        text-align: right;\n",
       "    }\n",
       "</style>\n",
       "<table border=\"1\" class=\"dataframe\">\n",
       "  <thead>\n",
       "    <tr style=\"text-align: right;\">\n",
       "      <th></th>\n",
       "      <th>mails</th>\n",
       "      <th>labels</th>\n",
       "      <th>mail</th>\n",
       "    </tr>\n",
       "  </thead>\n",
       "  <tbody>\n",
       "    <tr>\n",
       "      <th>882</th>\n",
       "      <td>From fork-admin@xent.com  Fri Oct  4 18:19:18 ...</td>\n",
       "      <td>0</td>\n",
       "      <td>--------------080209060700030309080805Content-...</td>\n",
       "    </tr>\n",
       "    <tr>\n",
       "      <th>1422</th>\n",
       "      <td>Return-Path: anthony@interlink.com.au\\nDeliver...</td>\n",
       "      <td>0</td>\n",
       "      <td>&gt;&gt;&gt; Tim Peters wrote&gt; &gt; I've actually got a bu...</td>\n",
       "    </tr>\n",
       "    <tr>\n",
       "      <th>1553</th>\n",
       "      <td>From razor-users-admin@lists.sourceforge.net  ...</td>\n",
       "      <td>0</td>\n",
       "      <td>The following razor debugging sequence show my...</td>\n",
       "    </tr>\n",
       "    <tr>\n",
       "      <th>1682</th>\n",
       "      <td>Return-Path: tim.one@comcast.net\\nDelivery-Dat...</td>\n",
       "      <td>0</td>\n",
       "      <td>[Jeremy]&gt; The total collections are 1100 messa...</td>\n",
       "    </tr>\n",
       "    <tr>\n",
       "      <th>1712</th>\n",
       "      <td>Return-Path: guido@python.org\\nDelivery-Date: ...</td>\n",
       "      <td>0</td>\n",
       "      <td>&gt; &gt; But it also identified as spam everything ...</td>\n",
       "    </tr>\n",
       "    <tr>\n",
       "      <th>...</th>\n",
       "      <td>...</td>\n",
       "      <td>...</td>\n",
       "      <td>...</td>\n",
       "    </tr>\n",
       "    <tr>\n",
       "      <th>2991</th>\n",
       "      <td>From akakay54@excite.com  Tue Dec  3 11:57:08 ...</td>\n",
       "      <td>1</td>\n",
       "      <td>Get 12 FREE VHS or DVDs!     Click  HERE ...</td>\n",
       "    </tr>\n",
       "    <tr>\n",
       "      <th>2992</th>\n",
       "      <td>From dega_jc271@hotmail.com  Tue Dec  3 11:57:...</td>\n",
       "      <td>1</td>\n",
       "      <td>Secured Investements     WEALTH WITHOUT RISK!...</td>\n",
       "    </tr>\n",
       "    <tr>\n",
       "      <th>2995</th>\n",
       "      <td>From yelanotyami912@bot.or.th  Tue Dec  3 15:1...</td>\n",
       "      <td>1</td>\n",
       "      <td>ABC's Good Morning America ranks it the #1 Ch...</td>\n",
       "    </tr>\n",
       "    <tr>\n",
       "      <th>2996</th>\n",
       "      <td>From bolttish@hotmail.com  Tue Dec  3 15:16:06...</td>\n",
       "      <td>1</td>\n",
       "      <td>Let         Mortgage Lenders co...</td>\n",
       "    </tr>\n",
       "    <tr>\n",
       "      <th>2998</th>\n",
       "      <td>From eBayInternetMarketing@yahoo.com  Tue Dec ...</td>\n",
       "      <td>1</td>\n",
       "      <td>The             Famous            e...</td>\n",
       "    </tr>\n",
       "  </tbody>\n",
       "</table>\n",
       "<p>147 rows × 3 columns</p>\n",
       "</div>"
      ],
      "text/plain": [
       "                                                  mails  labels  \\\n",
       "882   From fork-admin@xent.com  Fri Oct  4 18:19:18 ...       0   \n",
       "1422  Return-Path: anthony@interlink.com.au\\nDeliver...       0   \n",
       "1553  From razor-users-admin@lists.sourceforge.net  ...       0   \n",
       "1682  Return-Path: tim.one@comcast.net\\nDelivery-Dat...       0   \n",
       "1712  Return-Path: guido@python.org\\nDelivery-Date: ...       0   \n",
       "...                                                 ...     ...   \n",
       "2991  From akakay54@excite.com  Tue Dec  3 11:57:08 ...       1   \n",
       "2992  From dega_jc271@hotmail.com  Tue Dec  3 11:57:...       1   \n",
       "2995  From yelanotyami912@bot.or.th  Tue Dec  3 15:1...       1   \n",
       "2996  From bolttish@hotmail.com  Tue Dec  3 15:16:06...       1   \n",
       "2998  From eBayInternetMarketing@yahoo.com  Tue Dec ...       1   \n",
       "\n",
       "                                                   mail  \n",
       "882   --------------080209060700030309080805Content-...  \n",
       "1422  >>> Tim Peters wrote> > I've actually got a bu...  \n",
       "1553  The following razor debugging sequence show my...  \n",
       "1682  [Jeremy]> The total collections are 1100 messa...  \n",
       "1712  > > But it also identified as spam everything ...  \n",
       "...                                                 ...  \n",
       "2991       Get 12 FREE VHS or DVDs!     Click  HERE ...  \n",
       "2992   Secured Investements     WEALTH WITHOUT RISK!...  \n",
       "2995   ABC's Good Morning America ranks it the #1 Ch...  \n",
       "2996                 Let         Mortgage Lenders co...  \n",
       "2998             The             Famous            e...  \n",
       "\n",
       "[147 rows x 3 columns]"
      ]
     },
     "execution_count": 188,
     "metadata": {},
     "output_type": "execute_result"
    }
   ],
   "source": [
    "to_clean"
   ]
  },
  {
   "cell_type": "code",
   "execution_count": 189,
   "id": "742f68c2-9a8e-49bf-ba2c-6da4b1d9ce52",
   "metadata": {},
   "outputs": [],
   "source": [
    "df_clean.loc[ans] = to_clean"
   ]
  },
  {
   "cell_type": "code",
   "execution_count": 195,
   "id": "5f16407d-a4e8-4f60-b48e-9404714f88cd",
   "metadata": {},
   "outputs": [],
   "source": [
    "df_clean.to_csv('cleaned.csv',index = False)"
   ]
  },
  {
   "cell_type": "code",
   "execution_count": 7,
   "id": "7b0c7cf2-f318-4642-aafd-bfa4a7578be1",
   "metadata": {},
   "outputs": [],
   "source": [
    "df_clean = pd.read_csv('cleaned.csv')"
   ]
  },
  {
   "cell_type": "code",
   "execution_count": 13,
   "id": "d1be3f90-1cec-4c91-a901-9d86eb188c39",
   "metadata": {},
   "outputs": [],
   "source": [
    "data = df_clean[['mail','labels']]"
   ]
  },
  {
   "cell_type": "code",
   "execution_count": 14,
   "id": "18135024-4418-49c8-a799-4430771c7001",
   "metadata": {},
   "outputs": [],
   "source": [
    "data = data[:2999]"
   ]
  },
  {
   "cell_type": "markdown",
   "id": "e7d0722b-ecd1-4365-91dd-8a7f91ce4aec",
   "metadata": {},
   "source": [
    "#### Learning"
   ]
  },
  {
   "cell_type": "code",
   "execution_count": 18,
   "id": "58c6ca17-5985-4134-928c-431922f8d988",
   "metadata": {},
   "outputs": [],
   "source": [
    "data = data.dropna()"
   ]
  },
  {
   "cell_type": "code",
   "execution_count": 19,
   "id": "d5a1db13-2e99-42b5-aef2-25cfd3b49f60",
   "metadata": {},
   "outputs": [],
   "source": [
    "vocab_size = 1000\n",
    "encoded = [one_hot(d,vocab_size) for d in data['mail']]"
   ]
  },
  {
   "cell_type": "code",
   "execution_count": 20,
   "id": "abea0c67-0784-4aa6-a256-1591323ad0dc",
   "metadata": {},
   "outputs": [
    {
     "data": {
      "text/html": [
       "<div>\n",
       "<style scoped>\n",
       "    .dataframe tbody tr th:only-of-type {\n",
       "        vertical-align: middle;\n",
       "    }\n",
       "\n",
       "    .dataframe tbody tr th {\n",
       "        vertical-align: top;\n",
       "    }\n",
       "\n",
       "    .dataframe thead th {\n",
       "        text-align: right;\n",
       "    }\n",
       "</style>\n",
       "<table border=\"1\" class=\"dataframe\">\n",
       "  <thead>\n",
       "    <tr style=\"text-align: right;\">\n",
       "      <th></th>\n",
       "      <th>0</th>\n",
       "    </tr>\n",
       "  </thead>\n",
       "  <tbody>\n",
       "    <tr>\n",
       "      <th>count</th>\n",
       "      <td>2998.000000</td>\n",
       "    </tr>\n",
       "    <tr>\n",
       "      <th>mean</th>\n",
       "      <td>266.354903</td>\n",
       "    </tr>\n",
       "    <tr>\n",
       "      <th>std</th>\n",
       "      <td>595.301720</td>\n",
       "    </tr>\n",
       "    <tr>\n",
       "      <th>min</th>\n",
       "      <td>6.000000</td>\n",
       "    </tr>\n",
       "    <tr>\n",
       "      <th>25%</th>\n",
       "      <td>75.250000</td>\n",
       "    </tr>\n",
       "    <tr>\n",
       "      <th>50%</th>\n",
       "      <td>145.000000</td>\n",
       "    </tr>\n",
       "    <tr>\n",
       "      <th>75%</th>\n",
       "      <td>260.000000</td>\n",
       "    </tr>\n",
       "    <tr>\n",
       "      <th>max</th>\n",
       "      <td>13225.000000</td>\n",
       "    </tr>\n",
       "  </tbody>\n",
       "</table>\n",
       "</div>"
      ],
      "text/plain": [
       "                  0\n",
       "count   2998.000000\n",
       "mean     266.354903\n",
       "std      595.301720\n",
       "min        6.000000\n",
       "25%       75.250000\n",
       "50%      145.000000\n",
       "75%      260.000000\n",
       "max    13225.000000"
      ]
     },
     "execution_count": 20,
     "metadata": {},
     "output_type": "execute_result"
    }
   ],
   "source": [
    "pd.DataFrame([len(i) for i in encoded]).describe()"
   ]
  },
  {
   "cell_type": "code",
   "execution_count": 21,
   "id": "5662e26e-1074-4d7c-9495-40dec5c99c30",
   "metadata": {},
   "outputs": [],
   "source": [
    "max_len = 260"
   ]
  },
  {
   "cell_type": "code",
   "execution_count": 55,
   "id": "38ce43ab-f5ae-4921-bd62-5bac5061c140",
   "metadata": {},
   "outputs": [],
   "source": [
    "padded = []\n",
    "for i in encoded:\n",
    "    lenny = len(i)\n",
    "    if lenny == max_len:\n",
    "        padded.append(i)\n",
    "    elif lenny < max_len:\n",
    "        a = max_len - lenny\n",
    "        rem = [0 for j in range(a)]\n",
    "        padded.append(i+rem)\n",
    "    elif lenny > max_len:\n",
    "        padded.append(i[:max_len])"
   ]
  },
  {
   "cell_type": "code",
   "execution_count": 56,
   "id": "0a50e44e-7deb-4933-adf6-7337bdf64d9c",
   "metadata": {},
   "outputs": [],
   "source": [
    "padded = np.array(padded)"
   ]
  },
  {
   "cell_type": "code",
   "execution_count": 57,
   "id": "a5c576d0-6ddd-4777-ab81-17f6142e98dc",
   "metadata": {},
   "outputs": [],
   "source": [
    "model = Sequential()\n",
    "model.add(Embedding(1000, 50, input_length = max_len))\n",
    "model.add(Flatten())\n",
    "model.add(Dense(100, activation = 'relu'))\n",
    "model.add(Dense(100, activation = 'relu'))\n",
    "model.add(Dense(1, activation = 'sigmoid'))\n",
    "model.compile(loss = 'binary_crossentropy', optimizer = Adam(), metrics = ['acc'])"
   ]
  },
  {
   "cell_type": "code",
   "execution_count": 37,
   "id": "2a597832-46db-4db5-90c2-f2fc960e4dbc",
   "metadata": {},
   "outputs": [
    {
     "name": "stdout",
     "output_type": "stream",
     "text": [
      "Model: \"sequential_5\"\n",
      "_________________________________________________________________\n",
      " Layer (type)                Output Shape              Param #   \n",
      "=================================================================\n",
      " embedding_3 (Embedding)     (None, 260, 50)           50000     \n",
      "                                                                 \n",
      " flatten_1 (Flatten)         (None, 13000)             0         \n",
      "                                                                 \n",
      " dense_6 (Dense)             (None, 100)               1300100   \n",
      "                                                                 \n",
      " dense_7 (Dense)             (None, 100)               10100     \n",
      "                                                                 \n",
      " dense_8 (Dense)             (None, 1)                 101       \n",
      "                                                                 \n",
      "=================================================================\n",
      "Total params: 1,360,301\n",
      "Trainable params: 1,360,301\n",
      "Non-trainable params: 0\n",
      "_________________________________________________________________\n"
     ]
    }
   ],
   "source": [
    "model.summary()"
   ]
  },
  {
   "cell_type": "code",
   "execution_count": 59,
   "id": "fdcb9602-c4b7-424e-a0ec-8a6365d864b4",
   "metadata": {},
   "outputs": [],
   "source": [
    "labels = np.array(data.labels)"
   ]
  },
  {
   "cell_type": "code",
   "execution_count": 60,
   "id": "cad39b38-7096-4c20-a94a-df2e93ee98aa",
   "metadata": {},
   "outputs": [],
   "source": [
    "x,y = shuffle(padded,labels)"
   ]
  },
  {
   "cell_type": "code",
   "execution_count": 63,
   "id": "62fdae32-cc7b-4fca-bef8-206e07e44f46",
   "metadata": {},
   "outputs": [],
   "source": [
    "xtrain,xtest,ytrain,ytest = train_test_split(x,y,test_size = 0.4)"
   ]
  },
  {
   "cell_type": "code",
   "execution_count": 64,
   "id": "a4417d19-0bd6-4ad6-924c-6e3cbed5e4fa",
   "metadata": {},
   "outputs": [
    {
     "name": "stdout",
     "output_type": "stream",
     "text": [
      "Epoch 1/10\n",
      "57/57 [==============================] - 4s 77ms/step - loss: 0.0374 - acc: 0.9900 - val_loss: 0.0178 - val_acc: 0.9950\n",
      "Epoch 2/10\n",
      "57/57 [==============================] - 4s 63ms/step - loss: 0.0030 - acc: 1.0000 - val_loss: 0.0129 - val_acc: 0.9967\n",
      "Epoch 3/10\n",
      "57/57 [==============================] - 4s 63ms/step - loss: 4.7210e-04 - acc: 1.0000 - val_loss: 0.0183 - val_acc: 0.9958\n",
      "Epoch 4/10\n",
      "57/57 [==============================] - 4s 64ms/step - loss: 1.1309e-04 - acc: 1.0000 - val_loss: 0.0174 - val_acc: 0.9958\n",
      "Epoch 5/10\n",
      "57/57 [==============================] - 4s 65ms/step - loss: 7.6649e-05 - acc: 1.0000 - val_loss: 0.0173 - val_acc: 0.9958\n",
      "Epoch 6/10\n",
      "57/57 [==============================] - 4s 65ms/step - loss: 5.8748e-05 - acc: 1.0000 - val_loss: 0.0175 - val_acc: 0.9958\n",
      "Epoch 7/10\n",
      "57/57 [==============================] - 4s 67ms/step - loss: 4.7211e-05 - acc: 1.0000 - val_loss: 0.0179 - val_acc: 0.9958\n",
      "Epoch 8/10\n",
      "57/57 [==============================] - 4s 66ms/step - loss: 3.8874e-05 - acc: 1.0000 - val_loss: 0.0181 - val_acc: 0.9958\n",
      "Epoch 9/10\n",
      "57/57 [==============================] - 4s 66ms/step - loss: 3.2964e-05 - acc: 1.0000 - val_loss: 0.0184 - val_acc: 0.9958\n",
      "Epoch 10/10\n",
      "57/57 [==============================] - 4s 70ms/step - loss: 2.8197e-05 - acc: 1.0000 - val_loss: 0.0186 - val_acc: 0.9958\n"
     ]
    },
    {
     "data": {
      "text/plain": [
       "<keras.callbacks.History at 0x1bad44ca6b0>"
      ]
     },
     "execution_count": 64,
     "metadata": {},
     "output_type": "execute_result"
    }
   ],
   "source": [
    "model.fit(xtrain,ytrain,epochs = 10, batch_size = 32, validation_data = (xtest,ytest))"
   ]
  },
  {
   "cell_type": "code",
   "execution_count": 67,
   "id": "ac2cec61-6ffc-4ef5-a201-a45a68cd7a71",
   "metadata": {},
   "outputs": [
    {
     "name": "stdout",
     "output_type": "stream",
     "text": [
      "38/38 [==============================] - 1s 15ms/step\n"
     ]
    }
   ],
   "source": [
    "pred = model.predict(xtest)"
   ]
  },
  {
   "cell_type": "code",
   "execution_count": 72,
   "id": "98ff5d6d-a1f4-44aa-a919-7c2b53669217",
   "metadata": {},
   "outputs": [],
   "source": [
    "pred = [round(i[0]) for i in pred]"
   ]
  },
  {
   "cell_type": "code",
   "execution_count": 74,
   "id": "a5c114cd-af3d-4cbb-9b3f-93c94534d208",
   "metadata": {},
   "outputs": [
    {
     "data": {
      "text/plain": [
       "0.9870801033591732"
      ]
     },
     "execution_count": 74,
     "metadata": {},
     "output_type": "execute_result"
    }
   ],
   "source": [
    "f1_score(pred,ytest)"
   ]
  },
  {
   "cell_type": "code",
   "execution_count": 77,
   "id": "db31ed5f-3c57-4a04-813f-9815fd3e4b5a",
   "metadata": {},
   "outputs": [],
   "source": [
    "model.save('model.h5')"
   ]
  },
  {
   "cell_type": "code",
   "execution_count": 80,
   "id": "ac71283b-16a5-4727-a888-ac0498663040",
   "metadata": {},
   "outputs": [],
   "source": [
    "model = load_model('model.h5')"
   ]
  },
  {
   "cell_type": "markdown",
   "id": "89a8ced9-51dc-45d3-822f-53695eb60041",
   "metadata": {},
   "source": [
    "### MAIL PIPELINE"
   ]
  },
  {
   "cell_type": "code",
   "execution_count": 107,
   "id": "c5ae6e6f-7c2c-4fe9-a9b8-8b5d6a985b99",
   "metadata": {},
   "outputs": [],
   "source": [
    "def prediction(path):\n",
    "    with open(path) as data:\n",
    "        x = data.read()\n",
    "    ans = x.split('\\n')\n",
    "    ind = ans.index('')\n",
    "    text = ''.join(ans[ind:])\n",
    "    if '<html>' in text:\n",
    "        soup = BeautifulSoup(text,'lxml')\n",
    "        text = soup.text\n",
    "    encoded = one_hot(text,vocab_size)\n",
    "    if len(encoded) < max_len:\n",
    "        encoded = encoded + [0 for i in range(max_len - len(encoded))]\n",
    "    elif len(encoded) > max_len:\n",
    "        encoded = encoded[:max_len]\n",
    "    padded = np.array(encoded)\n",
    "    padded = padded.reshape(1,-1)\n",
    "    pred = model.predict(padded)\n",
    "    return round(pred[0][0])"
   ]
  },
  {
   "cell_type": "code",
   "execution_count": 110,
   "id": "3163112d-5cc6-40bf-91d0-62836a207971",
   "metadata": {},
   "outputs": [
    {
     "name": "stdout",
     "output_type": "stream",
     "text": [
      "1/1 [==============================] - 0s 50ms/step\n"
     ]
    },
    {
     "data": {
      "text/plain": [
       "1"
      ]
     },
     "execution_count": 110,
     "metadata": {},
     "output_type": "execute_result"
    }
   ],
   "source": [
    "prediction('spam/00004.eac8de8d759b7e74154f142194282724')"
   ]
  }
 ],
 "metadata": {
  "kernelspec": {
   "display_name": "Python 3 (ipykernel)",
   "language": "python",
   "name": "python3"
  },
  "language_info": {
   "codemirror_mode": {
    "name": "ipython",
    "version": 3
   },
   "file_extension": ".py",
   "mimetype": "text/x-python",
   "name": "python",
   "nbconvert_exporter": "python",
   "pygments_lexer": "ipython3",
   "version": "3.10.6"
  }
 },
 "nbformat": 4,
 "nbformat_minor": 5
}
